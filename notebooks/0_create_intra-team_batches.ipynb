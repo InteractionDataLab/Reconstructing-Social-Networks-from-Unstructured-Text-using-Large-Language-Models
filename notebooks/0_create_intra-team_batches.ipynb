{
 "cells": [
  {
   "cell_type": "code",
   "execution_count": 1,
   "id": "6ba64afb",
   "metadata": {},
   "outputs": [],
   "source": [
    "import pandas as pd\n",
    "import os\n",
    "from transformers import GPT2TokenizerFast\n",
    "import tiktoken\n",
    "import json\n",
    "\n",
    "tokenizer = tiktoken.encoding_for_model(\"gpt-4\")\n",
    "\n",
    "from langchain.text_splitter import RecursiveCharacterTextSplitter"
   ]
  },
  {
   "cell_type": "code",
   "execution_count": null,
   "id": "c0f2e7a7",
   "metadata": {},
   "outputs": [],
   "source": []
  },
  {
   "cell_type": "code",
   "execution_count": 2,
   "id": "1cbde5e5",
   "metadata": {},
   "outputs": [],
   "source": [
    "def count_token(text):\n",
    "        num_token = len(tokenizer.encode(text))\n",
    "        return num_token\n",
    "\n",
    "#file = open(\"../data/raw/full_text/2018/Aachen/Team:Aachen#Attributions_-_-_TEXT.html\")\n",
    "#text = file.read().rstrip()\n",
    "\n",
    "splitter = RecursiveCharacterTextSplitter(chunk_size=10000, length_function = count_token,\n",
    "                                                 separators=['\\n\\n', '\\n', \".\"],\n",
    "                                                  chunk_overlap=30)"
   ]
  },
  {
   "cell_type": "code",
   "execution_count": 3,
   "id": "eaf10ffb",
   "metadata": {},
   "outputs": [],
   "source": [
    "def process_chunks(text, team, year, page, chunk_size = 500, overlap_size = 30):\n",
    "    \n",
    "    text_encoded = tokenizer.encode(text)\n",
    "    token_count = len(text_encoded)\n",
    "    \n",
    "    chunks = [text_encoded[i-overlap_size : i + chunk_size] for i in range(overlap_size, token_count, chunk_size)]\n",
    "    chunks = [tokenizer.decode(chunk) for chunk in chunks]    \n",
    "    \n",
    "    chunks =  pd.DataFrame({\"team\": team, \"year\": year, \"page\": page, \"text\": chunks}) \n",
    "    \n",
    "    return(chunks)"
   ]
  },
  {
   "cell_type": "code",
   "execution_count": null,
   "id": "72cd1f25",
   "metadata": {},
   "outputs": [],
   "source": []
  },
  {
   "cell_type": "code",
   "execution_count": null,
   "id": "6a449d57",
   "metadata": {},
   "outputs": [],
   "source": []
  },
  {
   "cell_type": "code",
   "execution_count": 4,
   "id": "cad88d14",
   "metadata": {},
   "outputs": [],
   "source": [
    "terms_to_remove = ['css', \"js\", \"javascript\", \"react\", 'plotly', 'jquery']\n",
    "page_names_to_include = [\"Attribution\", \"attribution\", \"#Team\", \"#team\", \"Acknowledgement\", \"acknowledgement\", \"member\"\n",
    "                        \"Member\", \"Mentor\", \"Contribution\", \"contribution\", \"People\", \"About Us\", \"Members\", \"Acknowledgements\"]\n",
    "\n",
    "l = [x.lower() for x in page_names_to_include]\n",
    "\n",
    "page_names_to_include.extend(l)\n",
    "\n",
    "page_names_to_include = set(page_names_to_include)"
   ]
  },
  {
   "cell_type": "code",
   "execution_count": 16,
   "id": "55283fc7",
   "metadata": {},
   "outputs": [
    {
     "name": "stdout",
     "output_type": "stream",
     "text": [
      "Completed Year:2008\n",
      "Completed Year:2009\n",
      "Completed Year:2010\n",
      "Completed Year:2011\n",
      "Completed Year:2012\n",
      "Completed Year:2013\n",
      "Completed Year:2014\n",
      "Completed Year:2015\n",
      "Completed Year:2016\n",
      "Completed Year:2017\n",
      "Completed Year:2018\n"
     ]
    }
   ],
   "source": [
    "count = 0\n",
    "max_chunk_size = 500\n",
    "\n",
    "for year in range(2008,2019):\n",
    "    \n",
    "    teams = os.listdir(\"../data/raw/full_text/\" + str(year))\n",
    "    pd_chunks = pd.DataFrame()\n",
    "    \n",
    "    for team in teams:\n",
    "        \n",
    "        #Have to use all pages ~45% of teams don't list a \"Collaboration\" page\n",
    "        \n",
    "        files = os.listdir(\"../data/raw/full_text/\" + str(year) + \"/\" + team)\n",
    "        text_files = [x for x in files if 'TEXT' in x]         \n",
    "        text_files = [x for x in text_files if any(term in x for term in page_names_to_include)]\n",
    "        \n",
    "        #path = \"../../Collab Search/data/raw/full_text/\" + str(year) + \"/\" + team + \"/Team:\" + team.replace(\"_\", \" \") + \"#Collaborations_-_-_TEXT.html\"\n",
    "        \n",
    "        for text_file in text_files:\n",
    "            \n",
    "            path = \"../data/raw/full_text/\" + str(year) + \"/\" + team + \"/\" + text_file\n",
    "        \n",
    "            if os.path.exists(path):\n",
    "        \n",
    "                file = open(path)\n",
    "                txt = file.read().rstrip()\n",
    "            \n",
    "                #chunks = process_chunks(txt, team, year, text_file, chunk_size = max_chunk_size)\n",
    "                \n",
    "                chunk_list = splitter.split_text(txt)\n",
    "                chunks = pd.DataFrame()\n",
    "                \n",
    "                for item in chunk_list:\n",
    "                    chunks = chunks.append(pd.DataFrame([[team, year, text_file, item]], columns=[\"team\", \"year\", \"page\", \"chunk\"]))\n",
    "                \n",
    "                pd_chunks = pd_chunks.append(chunks)\n",
    "            \n",
    "            else:\n",
    "                count = count + 1\n",
    "            \n",
    "        #pd_chunks.to_csv(\"../data/processed/batches_intra-team_select/\" + str(year) + \"/\" + team + \".csv\", index=False)\n",
    "    \n",
    "    pd_chunks.to_csv(\"../data/processed/text_batches_intra-team/\" + str(year) + \".csv\", index=False)\n",
    "    print(\"Completed Year:\" + str(year))"
   ]
  },
  {
   "cell_type": "code",
   "execution_count": 17,
   "id": "430ba29d",
   "metadata": {},
   "outputs": [],
   "source": [
    "count = 0\n",
    "for year in range(2008,2019):\n",
    "    t = pd.read_csv(\"../data/processed/text_batches_intra-team/\" + str(year) + \".csv\")\n",
    "    count = count + len(t['team'].unique())"
   ]
  },
  {
   "cell_type": "code",
   "execution_count": 18,
   "id": "dbfca4ec",
   "metadata": {},
   "outputs": [
    {
     "data": {
      "text/plain": [
       "'\\nbatch_size = 50000\\nbatch_capacity = int(batch_size/max_chunk_size)\\n\\ndf = pd_chunks #.sample(frac = 1)\\n\\nfor var in range(1,len(pd_chunks), batch_capacity):\\n    \\n    temp = df[var:var+batch_capacity]\\n    temp.to_csv(\"../data/processed/batches_intra-team_select/\" + str(int(var/batch_capacity) + 1) + \".csv\", index = False)\\n'"
      ]
     },
     "execution_count": 18,
     "metadata": {},
     "output_type": "execute_result"
    }
   ],
   "source": [
    "\"\"\"\n",
    "batch_size = 50000\n",
    "batch_capacity = int(batch_size/max_chunk_size)\n",
    "\n",
    "df = pd_chunks #.sample(frac = 1)\n",
    "\n",
    "for var in range(1,len(pd_chunks), batch_capacity):\n",
    "    \n",
    "    temp = df[var:var+batch_capacity]\n",
    "    temp.to_csv(\"../data/processed/batches_intra-team_select/\" + str(int(var/batch_capacity) + 1) + \".csv\", index = False)\n",
    "\"\"\""
   ]
  },
  {
   "cell_type": "code",
   "execution_count": 19,
   "id": "b36f7a8a",
   "metadata": {},
   "outputs": [
    {
     "data": {
      "text/plain": [
       "2173"
      ]
     },
     "execution_count": 19,
     "metadata": {},
     "output_type": "execute_result"
    }
   ],
   "source": [
    "#pd_chunks.to_csv(\"../data/processed/text_08_18_fuzzy_select_freq.csv\", index=False)\n",
    "count"
   ]
  },
  {
   "cell_type": "code",
   "execution_count": null,
   "id": "7bd28168",
   "metadata": {},
   "outputs": [],
   "source": []
  }
 ],
 "metadata": {
  "kernelspec": {
   "display_name": "Python 3 (ipykernel)",
   "language": "python",
   "name": "python3"
  },
  "language_info": {
   "codemirror_mode": {
    "name": "ipython",
    "version": 3
   },
   "file_extension": ".py",
   "mimetype": "text/x-python",
   "name": "python",
   "nbconvert_exporter": "python",
   "pygments_lexer": "ipython3",
   "version": "3.8.10"
  }
 },
 "nbformat": 4,
 "nbformat_minor": 5
}
